{
 "cells": [
  {
   "cell_type": "markdown",
   "metadata": {},
   "source": [
    "# ML Pipeline Preparation\n",
    "Follow the instructions below to help you create your ML pipeline.\n",
    "### 1. Import libraries and load data from database.\n",
    "- Import Python libraries\n",
    "- Load dataset from database with [`read_sql_table`](https://pandas.pydata.org/pandas-docs/stable/generated/pandas.read_sql_table.html)\n",
    "- Define feature and target variables X and Y"
   ]
  },
  {
   "cell_type": "code",
   "execution_count": 1,
   "metadata": {},
   "outputs": [
    {
     "name": "stdout",
     "output_type": "stream",
     "text": [
      "[nltk_data] Downloading package punkt to /root/nltk_data...\n",
      "[nltk_data]   Package punkt is already up-to-date!\n",
      "[nltk_data] Downloading package stopwords to /root/nltk_data...\n",
      "[nltk_data]   Package stopwords is already up-to-date!\n",
      "[nltk_data] Downloading package wordnet to /root/nltk_data...\n",
      "[nltk_data]   Package wordnet is already up-to-date!\n",
      "[nltk_data] Downloading package averaged_perceptron_tagger to\n",
      "[nltk_data]     /root/nltk_data...\n",
      "[nltk_data]   Package averaged_perceptron_tagger is already up-to-\n",
      "[nltk_data]       date!\n"
     ]
    }
   ],
   "source": [
    "#import libraries\n",
    "import nltk\n",
    "nltk.download('punkt')\n",
    "nltk.download('stopwords')\n",
    "nltk.download('wordnet')\n",
    "nltk.download('averaged_perceptron_tagger')\n",
    "from nltk import pos_tag, ne_chunk"
   ]
  },
  {
   "cell_type": "code",
   "execution_count": 3,
   "metadata": {},
   "outputs": [],
   "source": [
    "# import libraries\n",
    "import re\n",
    "import numpy as np\n",
    "import sys\n",
    "from nltk.corpus import stopwords\n",
    "from nltk.tokenize import word_tokenize\n",
    "from nltk.stem import WordNetLemmatizer \n",
    "from nltk.stem.porter import PorterStemmer\n",
    "import pandas as pd\n",
    "from sqlalchemy import create_engine\n",
    "from sklearn.metrics import confusion_matrix\n",
    "from sklearn.model_selection import GridSearchCV\n",
    "from sklearn.neighbors import KNeighborsClassifier\n",
    "from sklearn.model_selection import train_test_split\n",
    "from sklearn.pipeline import Pipeline, FeatureUnion\n",
    "from sklearn.multioutput import MultiOutputClassifier\n",
    "from sklearn.datasets import make_multilabel_classification\n",
    "from sklearn.feature_extraction.text import TfidfVectorizer\n",
    "from sklearn.base import BaseEstimator, TransformerMixin\n",
    "from sklearn.feature_extraction.text import CountVectorizer\n",
    "from sklearn.feature_extraction.text import TfidfTransformer\n",
    "from sklearn.ensemble import RandomForestClassifier\n",
    "from sklearn.metrics import classification_report\n",
    "import pickle\n",
    "#from sklearn.ensemble import AdaBoostRegressor\n",
    "#from sklearn.cluster import KMeans\n",
    "#from sklearn.linear_model import LogisticRegression\n",
    "#from sklearn.linear_model import SGDClassifier"
   ]
  },
  {
   "cell_type": "code",
   "execution_count": 56,
   "metadata": {},
   "outputs": [
    {
     "name": "stdout",
     "output_type": "stream",
     "text": [
      "1.1.13\n"
     ]
    }
   ],
   "source": [
    "#check sqlalchemy\n",
    "import sqlalchemy\n",
    "print (sqlalchemy.__version__ )"
   ]
  },
  {
   "cell_type": "code",
   "execution_count": 73,
   "metadata": {},
   "outputs": [],
   "source": [
    "#load data from database\n",
    "def load_data():\n",
    "    engine = create_engine('sqlite:///disaster_response.db')\n",
    "    df = pd.read_sql(\"SELECT * FROM disaster_response\", engine)\n",
    "    X = df.message.values\n",
    "    #exclude id, message and genre from y variable\n",
    "    y=df.iloc[:,3:]\n",
    "    return X,y"
   ]
  },
  {
   "cell_type": "code",
   "execution_count": 6,
   "metadata": {},
   "outputs": [
    {
     "data": {
      "text/html": [
       "<div>\n",
       "<style scoped>\n",
       "    .dataframe tbody tr th:only-of-type {\n",
       "        vertical-align: middle;\n",
       "    }\n",
       "\n",
       "    .dataframe tbody tr th {\n",
       "        vertical-align: top;\n",
       "    }\n",
       "\n",
       "    .dataframe thead th {\n",
       "        text-align: right;\n",
       "    }\n",
       "</style>\n",
       "<table border=\"1\" class=\"dataframe\">\n",
       "  <thead>\n",
       "    <tr style=\"text-align: right;\">\n",
       "      <th></th>\n",
       "      <th>related</th>\n",
       "      <th>request</th>\n",
       "      <th>offer</th>\n",
       "      <th>aid_related</th>\n",
       "      <th>medical_help</th>\n",
       "      <th>medical_products</th>\n",
       "      <th>search_and_rescue</th>\n",
       "      <th>security</th>\n",
       "      <th>military</th>\n",
       "      <th>child_alone</th>\n",
       "      <th>...</th>\n",
       "      <th>aid_centers</th>\n",
       "      <th>other_infrastructure</th>\n",
       "      <th>weather_related</th>\n",
       "      <th>floods</th>\n",
       "      <th>storm</th>\n",
       "      <th>fire</th>\n",
       "      <th>earthquake</th>\n",
       "      <th>cold</th>\n",
       "      <th>other_weather</th>\n",
       "      <th>direct_report</th>\n",
       "    </tr>\n",
       "  </thead>\n",
       "  <tbody>\n",
       "    <tr>\n",
       "      <th>0</th>\n",
       "      <td>1</td>\n",
       "      <td>0</td>\n",
       "      <td>0</td>\n",
       "      <td>0</td>\n",
       "      <td>0</td>\n",
       "      <td>0</td>\n",
       "      <td>0</td>\n",
       "      <td>0</td>\n",
       "      <td>0</td>\n",
       "      <td>0</td>\n",
       "      <td>...</td>\n",
       "      <td>0</td>\n",
       "      <td>0</td>\n",
       "      <td>0</td>\n",
       "      <td>0</td>\n",
       "      <td>0</td>\n",
       "      <td>0</td>\n",
       "      <td>0</td>\n",
       "      <td>0</td>\n",
       "      <td>0</td>\n",
       "      <td>0</td>\n",
       "    </tr>\n",
       "    <tr>\n",
       "      <th>1</th>\n",
       "      <td>1</td>\n",
       "      <td>0</td>\n",
       "      <td>0</td>\n",
       "      <td>1</td>\n",
       "      <td>0</td>\n",
       "      <td>0</td>\n",
       "      <td>0</td>\n",
       "      <td>0</td>\n",
       "      <td>0</td>\n",
       "      <td>0</td>\n",
       "      <td>...</td>\n",
       "      <td>0</td>\n",
       "      <td>0</td>\n",
       "      <td>1</td>\n",
       "      <td>0</td>\n",
       "      <td>1</td>\n",
       "      <td>0</td>\n",
       "      <td>0</td>\n",
       "      <td>0</td>\n",
       "      <td>0</td>\n",
       "      <td>0</td>\n",
       "    </tr>\n",
       "    <tr>\n",
       "      <th>2</th>\n",
       "      <td>1</td>\n",
       "      <td>0</td>\n",
       "      <td>0</td>\n",
       "      <td>0</td>\n",
       "      <td>0</td>\n",
       "      <td>0</td>\n",
       "      <td>0</td>\n",
       "      <td>0</td>\n",
       "      <td>0</td>\n",
       "      <td>0</td>\n",
       "      <td>...</td>\n",
       "      <td>0</td>\n",
       "      <td>0</td>\n",
       "      <td>0</td>\n",
       "      <td>0</td>\n",
       "      <td>0</td>\n",
       "      <td>0</td>\n",
       "      <td>0</td>\n",
       "      <td>0</td>\n",
       "      <td>0</td>\n",
       "      <td>0</td>\n",
       "    </tr>\n",
       "    <tr>\n",
       "      <th>3</th>\n",
       "      <td>1</td>\n",
       "      <td>1</td>\n",
       "      <td>0</td>\n",
       "      <td>1</td>\n",
       "      <td>0</td>\n",
       "      <td>1</td>\n",
       "      <td>0</td>\n",
       "      <td>0</td>\n",
       "      <td>0</td>\n",
       "      <td>0</td>\n",
       "      <td>...</td>\n",
       "      <td>0</td>\n",
       "      <td>0</td>\n",
       "      <td>0</td>\n",
       "      <td>0</td>\n",
       "      <td>0</td>\n",
       "      <td>0</td>\n",
       "      <td>0</td>\n",
       "      <td>0</td>\n",
       "      <td>0</td>\n",
       "      <td>0</td>\n",
       "    </tr>\n",
       "    <tr>\n",
       "      <th>4</th>\n",
       "      <td>1</td>\n",
       "      <td>0</td>\n",
       "      <td>0</td>\n",
       "      <td>0</td>\n",
       "      <td>0</td>\n",
       "      <td>0</td>\n",
       "      <td>0</td>\n",
       "      <td>0</td>\n",
       "      <td>0</td>\n",
       "      <td>0</td>\n",
       "      <td>...</td>\n",
       "      <td>0</td>\n",
       "      <td>0</td>\n",
       "      <td>0</td>\n",
       "      <td>0</td>\n",
       "      <td>0</td>\n",
       "      <td>0</td>\n",
       "      <td>0</td>\n",
       "      <td>0</td>\n",
       "      <td>0</td>\n",
       "      <td>0</td>\n",
       "    </tr>\n",
       "  </tbody>\n",
       "</table>\n",
       "<p>5 rows × 36 columns</p>\n",
       "</div>"
      ],
      "text/plain": [
       "   related  request  offer  aid_related  medical_help  medical_products  \\\n",
       "0        1        0      0            0             0                 0   \n",
       "1        1        0      0            1             0                 0   \n",
       "2        1        0      0            0             0                 0   \n",
       "3        1        1      0            1             0                 1   \n",
       "4        1        0      0            0             0                 0   \n",
       "\n",
       "   search_and_rescue  security  military  child_alone      ...        \\\n",
       "0                  0         0         0            0      ...         \n",
       "1                  0         0         0            0      ...         \n",
       "2                  0         0         0            0      ...         \n",
       "3                  0         0         0            0      ...         \n",
       "4                  0         0         0            0      ...         \n",
       "\n",
       "   aid_centers  other_infrastructure  weather_related  floods  storm  fire  \\\n",
       "0            0                     0                0       0      0     0   \n",
       "1            0                     0                1       0      1     0   \n",
       "2            0                     0                0       0      0     0   \n",
       "3            0                     0                0       0      0     0   \n",
       "4            0                     0                0       0      0     0   \n",
       "\n",
       "   earthquake  cold  other_weather  direct_report  \n",
       "0           0     0              0              0  \n",
       "1           0     0              0              0  \n",
       "2           0     0              0              0  \n",
       "3           0     0              0              0  \n",
       "4           0     0              0              0  \n",
       "\n",
       "[5 rows x 36 columns]"
      ]
     },
     "execution_count": 6,
     "metadata": {},
     "output_type": "execute_result"
    }
   ],
   "source": [
    "#inspect first rows\n",
    "y.head()"
   ]
  },
  {
   "cell_type": "code",
   "execution_count": 67,
   "metadata": {},
   "outputs": [],
   "source": [
    "#call function\n",
    "X,y = load_data()"
   ]
  },
  {
   "cell_type": "code",
   "execution_count": 7,
   "metadata": {},
   "outputs": [
    {
     "data": {
      "text/plain": [
       "((26216,), (26216, 36))"
      ]
     },
     "execution_count": 7,
     "metadata": {},
     "output_type": "execute_result"
    }
   ],
   "source": [
    "#shape of our dataset\n",
    "X.shape, y.shape"
   ]
  },
  {
   "cell_type": "code",
   "execution_count": 4,
   "metadata": {},
   "outputs": [],
   "source": [
    "engine = create_engine('sqlite:///disaster_response.db')\n",
    "df = pd.read_sql(\"SELECT * FROM disaster_response\", engine)"
   ]
  },
  {
   "cell_type": "code",
   "execution_count": 5,
   "metadata": {},
   "outputs": [],
   "source": [
    "# find top 5 and least 5 categories\n",
    "df= df.replace(2,1)\n",
    "df = df.iloc[:,3:]"
   ]
  },
  {
   "cell_type": "code",
   "execution_count": 11,
   "metadata": {},
   "outputs": [],
   "source": [
    "#count number of true values\n",
    "count_val = (df.apply(pd.value_counts).transpose()).iloc[:, 1:2]"
   ]
  },
  {
   "cell_type": "code",
   "execution_count": 14,
   "metadata": {},
   "outputs": [],
   "source": [
    "count_val['count'] = count_val.iloc[:,0]"
   ]
  },
  {
   "cell_type": "code",
   "execution_count": 19,
   "metadata": {},
   "outputs": [],
   "source": [
    "#count_val.sort_index(ascending=False)\n",
    "top_five = count_val.sort_values(by=['count'], ascending=False)[0:5]\n",
    "top_freq = top_five['count']"
   ]
  },
  {
   "cell_type": "code",
   "execution_count": 21,
   "metadata": {},
   "outputs": [
    {
     "data": {
      "text/plain": [
       "['related', 'aid_related', 'weather_related', 'direct_report', 'request']"
      ]
     },
     "execution_count": 21,
     "metadata": {},
     "output_type": "execute_result"
    }
   ],
   "source": [
    "#list of top categories\n",
    "top_names = list(top_freq.index)"
   ]
  },
  {
   "cell_type": "code",
   "execution_count": 23,
   "metadata": {},
   "outputs": [],
   "source": [
    "#obtain least 5 categories\n",
    "least_five = count_val.sort_values(by=['count'], ascending=True)[0:5]\n",
    "least_freq = least_five['count']\n",
    "least_names = list(least_freq.index)"
   ]
  },
  {
   "cell_type": "code",
   "execution_count": 26,
   "metadata": {},
   "outputs": [
    {
     "data": {
      "text/plain": [
       "offer        118.0\n",
       "shops        120.0\n",
       "tools        159.0\n",
       "fire         282.0\n",
       "hospitals    283.0\n",
       "Name: count, dtype: float64"
      ]
     },
     "execution_count": 26,
     "metadata": {},
     "output_type": "execute_result"
    }
   ],
   "source": [
    "#the five least frequencies\n",
    "least_freq"
   ]
  },
  {
   "cell_type": "markdown",
   "metadata": {},
   "source": [
    "### 2. Write a tokenization function to process your text data"
   ]
  },
  {
   "cell_type": "code",
   "execution_count": 35,
   "metadata": {},
   "outputs": [],
   "source": [
    "def tokenize(text):\n",
    "    \"\"\"\n",
    "    INPUT\n",
    "    text: text to be stemmed and lemmatized\n",
    "    OUTPUT:\n",
    "    clean_tokens: text after remove stopwords, reduce to their stems,\n",
    "                    lematize and normalize \n",
    "    \"\"\"\n",
    "    #Normalize text\n",
    "    text = re.sub(r\"[^a-zA-Z0-9]\",\" \", text.lower())\n",
    "    #tokenize text\n",
    "    tokens = word_tokenize(text)\n",
    "    #remove stop words\n",
    "    tokens_stop = [w for w in tokens if w not in stopwords.words(\"english\")]\n",
    "    #reduce words to their stems\n",
    "    tokens_stem = [PorterStemmer().stem(w) for w in tokens_stop]\n",
    "    #initiate lemmatizer \n",
    "    lemmatizer = WordNetLemmatizer()\n",
    "    #iterate through each token\n",
    "    clean_tokens=[]\n",
    "    for tok in tokens_stem:\n",
    "        #lemmatize, normalize case and remove white space\n",
    "        clean_tok = lemmatizer.lemmatize(tok).lower().strip()\n",
    "        clean_tokens.append(clean_tok)\n",
    "    return clean_tokens"
   ]
  },
  {
   "cell_type": "code",
   "execution_count": 11,
   "metadata": {
    "scrolled": false
   },
   "outputs": [
    {
     "name": "stdout",
     "output_type": "stream",
     "text": [
      "Weather update - a cold front from Cuba that could pass over Haiti\n",
      "['weather', 'updat', 'cold', 'front', 'cuba', 'could', 'pas', 'haiti']\n",
      "Is the Hurricane over or is it not over\n",
      "['hurrican']\n",
      "Looking for someone but no name\n",
      "['look', 'someon', 'name']\n",
      "UN reports Leogane 80-90 destroyed. Only Hospital St. Croix functioning. Needs supplies desperately.\n",
      "['un', 'report', 'leogan', '80', '90', 'destroy', 'hospit', 'st', 'croix', 'function', 'need', 'suppli', 'desper']\n",
      "says: west side of Haiti, rest of the country today and tonight\n",
      "['say', 'west', 'side', 'haiti', 'rest', 'countri', 'today', 'tonight']\n",
      "Information about the National Palace-\n",
      "['inform', 'nation', 'palac']\n",
      "Storm at sacred heart of jesus\n",
      "['storm', 'sacr', 'heart', 'jesu']\n",
      "Please, we need tents and water. We are in Silo, Thank you!\n",
      "['plea', 'need', 'tent', 'water', 'silo', 'thank']\n",
      "I would like to receive the messages, thank you\n",
      "['would', 'like', 'receiv', 'messag', 'thank']\n",
      "I am in Croix-des-Bouquets. We have health issues. They ( workers ) are in Santo 15. ( an area in Croix-des-Bouquets )\n",
      "['croix', 'de', 'bouquet', 'health', 'issu', 'worker', 'santo', '15', 'area', 'croix', 'de', 'bouquet']\n",
      "There's nothing to eat and water, we starving and thirsty.\n",
      "['noth', 'eat', 'water', 'starv', 'thirsti']\n"
     ]
    }
   ],
   "source": [
    "#test function:\n",
    "#for message in X[:11]:\n",
    "#    tokens=tokenize(message)\n",
    "#    print (message)\n",
    "#    print(tokens)"
   ]
  },
  {
   "cell_type": "code",
   "execution_count": 6,
   "metadata": {},
   "outputs": [],
   "source": [
    "#split data\n",
    "X_train, X_test, y_train, y_test = train_test_split(X,y,test_size=0.3, random_state=42)"
   ]
  },
  {
   "cell_type": "code",
   "execution_count": 6,
   "metadata": {},
   "outputs": [],
   "source": [
    "#apply CountVectorizer\n",
    "class apply_fit_transform(BaseEstimator, TransformerMixin):\n",
    "    def vect(self, text):\n",
    "        vec = CountVectorizer(tokenizer=tokenize)\n",
    "        X=vec.fit_transform(X_train)\n",
    "    def fit(self, x, y=None):\n",
    "        return self\n",
    "    def Transform(self, X):\n",
    "        X_tr = pd.Series(X).apply(self.vect)\n",
    "        return pd.Dataframe(X_tr)\n"
   ]
  },
  {
   "cell_type": "markdown",
   "metadata": {},
   "source": [
    "### 3. Build a machine learning pipeline\n",
    "This machine pipeline should take in the `message` column as input and output classification results on the other 36 categories in the dataset. You may find the [MultiOutputClassifier](http://scikit-learn.org/stable/modules/generated/sklearn.multioutput.MultiOutputClassifier.html) helpful for predicting multiple target variables."
   ]
  },
  {
   "cell_type": "markdown",
   "metadata": {},
   "source": [
    "#### Try with KNeighborsClassifier"
   ]
  },
  {
   "cell_type": "code",
   "execution_count": 23,
   "metadata": {},
   "outputs": [],
   "source": [
    "#build pipeline \n",
    "#using KNeighborsClassifier\n",
    "pipeline=Pipeline([\n",
    "    ('vect', CountVectorizer(tokenizer=tokenize)),\n",
    "    ('tfidf', TfidfTransformer()),\n",
    "    ('clf',MultiOutputClassifier(KNeighborsClassifier()))\n",
    "])\n"
   ]
  },
  {
   "cell_type": "code",
   "execution_count": 24,
   "metadata": {
    "scrolled": false
   },
   "outputs": [
    {
     "data": {
      "text/plain": [
       "{'memory': None,\n",
       " 'steps': [('vect',\n",
       "   CountVectorizer(analyzer='word', binary=False, decode_error='strict',\n",
       "           dtype=<class 'numpy.int64'>, encoding='utf-8', input='content',\n",
       "           lowercase=True, max_df=1.0, max_features=None, min_df=1,\n",
       "           ngram_range=(1, 1), preprocessor=None, stop_words=None,\n",
       "           strip_accents=None, token_pattern='(?u)\\\\b\\\\w\\\\w+\\\\b',\n",
       "           tokenizer=<function tokenize at 0x7f65e4052d08>, vocabulary=None)),\n",
       "  ('tfidf',\n",
       "   TfidfTransformer(norm='l2', smooth_idf=True, sublinear_tf=False, use_idf=True)),\n",
       "  ('clf',\n",
       "   MultiOutputClassifier(estimator=KNeighborsClassifier(algorithm='auto', leaf_size=30, metric='minkowski',\n",
       "              metric_params=None, n_jobs=1, n_neighbors=5, p=2,\n",
       "              weights='uniform'),\n",
       "              n_jobs=1))],\n",
       " 'vect': CountVectorizer(analyzer='word', binary=False, decode_error='strict',\n",
       "         dtype=<class 'numpy.int64'>, encoding='utf-8', input='content',\n",
       "         lowercase=True, max_df=1.0, max_features=None, min_df=1,\n",
       "         ngram_range=(1, 1), preprocessor=None, stop_words=None,\n",
       "         strip_accents=None, token_pattern='(?u)\\\\b\\\\w\\\\w+\\\\b',\n",
       "         tokenizer=<function tokenize at 0x7f65e4052d08>, vocabulary=None),\n",
       " 'tfidf': TfidfTransformer(norm='l2', smooth_idf=True, sublinear_tf=False, use_idf=True),\n",
       " 'clf': MultiOutputClassifier(estimator=KNeighborsClassifier(algorithm='auto', leaf_size=30, metric='minkowski',\n",
       "            metric_params=None, n_jobs=1, n_neighbors=5, p=2,\n",
       "            weights='uniform'),\n",
       "            n_jobs=1),\n",
       " 'vect__analyzer': 'word',\n",
       " 'vect__binary': False,\n",
       " 'vect__decode_error': 'strict',\n",
       " 'vect__dtype': numpy.int64,\n",
       " 'vect__encoding': 'utf-8',\n",
       " 'vect__input': 'content',\n",
       " 'vect__lowercase': True,\n",
       " 'vect__max_df': 1.0,\n",
       " 'vect__max_features': None,\n",
       " 'vect__min_df': 1,\n",
       " 'vect__ngram_range': (1, 1),\n",
       " 'vect__preprocessor': None,\n",
       " 'vect__stop_words': None,\n",
       " 'vect__strip_accents': None,\n",
       " 'vect__token_pattern': '(?u)\\\\b\\\\w\\\\w+\\\\b',\n",
       " 'vect__tokenizer': <function __main__.tokenize(text)>,\n",
       " 'vect__vocabulary': None,\n",
       " 'tfidf__norm': 'l2',\n",
       " 'tfidf__smooth_idf': True,\n",
       " 'tfidf__sublinear_tf': False,\n",
       " 'tfidf__use_idf': True,\n",
       " 'clf__estimator__algorithm': 'auto',\n",
       " 'clf__estimator__leaf_size': 30,\n",
       " 'clf__estimator__metric': 'minkowski',\n",
       " 'clf__estimator__metric_params': None,\n",
       " 'clf__estimator__n_jobs': 1,\n",
       " 'clf__estimator__n_neighbors': 5,\n",
       " 'clf__estimator__p': 2,\n",
       " 'clf__estimator__weights': 'uniform',\n",
       " 'clf__estimator': KNeighborsClassifier(algorithm='auto', leaf_size=30, metric='minkowski',\n",
       "            metric_params=None, n_jobs=1, n_neighbors=5, p=2,\n",
       "            weights='uniform'),\n",
       " 'clf__n_jobs': 1}"
      ]
     },
     "execution_count": 24,
     "metadata": {},
     "output_type": "execute_result"
    }
   ],
   "source": [
    "#get parameters\n",
    "pipeline.get_params()"
   ]
  },
  {
   "cell_type": "markdown",
   "metadata": {},
   "source": [
    "### 4. Train pipeline\n",
    "- Split data into train and test sets\n",
    "- Train pipeline"
   ]
  },
  {
   "cell_type": "code",
   "execution_count": 25,
   "metadata": {},
   "outputs": [],
   "source": [
    "#split data\n",
    "X_train, X_test, y_train, y_test = train_test_split(X,y,test_size=0.3, random_state=42)"
   ]
  },
  {
   "cell_type": "code",
   "execution_count": 26,
   "metadata": {},
   "outputs": [
    {
     "data": {
      "text/plain": [
       "Pipeline(memory=None,\n",
       "     steps=[('vect', CountVectorizer(analyzer='word', binary=False, decode_error='strict',\n",
       "        dtype=<class 'numpy.int64'>, encoding='utf-8', input='content',\n",
       "        lowercase=True, max_df=1.0, max_features=None, min_df=1,\n",
       "        ngram_range=(1, 1), preprocessor=None, stop_words=None,\n",
       "        strip...ric_params=None, n_jobs=1, n_neighbors=5, p=2,\n",
       "           weights='uniform'),\n",
       "           n_jobs=1))])"
      ]
     },
     "execution_count": 26,
     "metadata": {},
     "output_type": "execute_result"
    }
   ],
   "source": [
    "#fit pipeline\n",
    "pipeline.fit(X_train, y_train)"
   ]
  },
  {
   "cell_type": "code",
   "execution_count": 28,
   "metadata": {},
   "outputs": [],
   "source": [
    "#predict on test data\n",
    "y_pred = pipeline.predict(X_test)"
   ]
  },
  {
   "cell_type": "code",
   "execution_count": 30,
   "metadata": {},
   "outputs": [
    {
     "name": "stdout",
     "output_type": "stream",
     "text": [
      "related                   0.778640\n",
      "request                   0.842848\n",
      "offer                     0.995423\n",
      "aid_related               0.601399\n",
      "medical_help              0.918754\n",
      "medical_products          0.946599\n",
      "search_and_rescue         0.975588\n",
      "security                  0.981564\n",
      "military                  0.968849\n",
      "child_alone               1.000000\n",
      "water                     0.938207\n",
      "food                      0.893198\n",
      "shelter                   0.913160\n",
      "clothing                  0.985887\n",
      "money                     0.978385\n",
      "missing_people            0.988303\n",
      "refugees                  0.966942\n",
      "death                     0.954100\n",
      "other_aid                 0.867387\n",
      "infrastructure_related    0.935664\n",
      "transport                 0.953973\n",
      "buildings                 0.950540\n",
      "electricity               0.978640\n",
      "tools                     0.993897\n",
      "hospitals                 0.990083\n",
      "shops                     0.996440\n",
      "aid_centers               0.986904\n",
      "other_infrastructure      0.956516\n",
      "weather_related           0.735283\n",
      "floods                    0.921170\n",
      "storm                     0.906675\n",
      "fire                      0.989447\n",
      "earthquake                0.919517\n",
      "cold                      0.978385\n",
      "other_weather             0.947616\n",
      "direct_report             0.812206\n",
      "dtype: float64\n"
     ]
    }
   ],
   "source": [
    "#find accuracy\n",
    "accuracy = (y_pred == y_test).mean()\n",
    "print(accuracy)"
   ]
  },
  {
   "cell_type": "markdown",
   "metadata": {},
   "source": [
    "#### Try Random forest classifier"
   ]
  },
  {
   "cell_type": "code",
   "execution_count": 16,
   "metadata": {},
   "outputs": [],
   "source": [
    "#neww pipeline: trying random forest classifier\n",
    "pipeline=Pipeline([\n",
    "    ('vect', CountVectorizer(tokenizer=tokenize)),\n",
    "    ('tfidf', TfidfTransformer()),\n",
    "    ('clf',MultiOutputClassifier(RandomForestClassifier()))\n",
    "])"
   ]
  },
  {
   "cell_type": "code",
   "execution_count": 33,
   "metadata": {},
   "outputs": [
    {
     "data": {
      "text/plain": [
       "{'memory': None,\n",
       " 'steps': [('vect',\n",
       "   CountVectorizer(analyzer='word', binary=False, decode_error='strict',\n",
       "           dtype=<class 'numpy.int64'>, encoding='utf-8', input='content',\n",
       "           lowercase=True, max_df=1.0, max_features=None, min_df=1,\n",
       "           ngram_range=(1, 1), preprocessor=None, stop_words=None,\n",
       "           strip_accents=None, token_pattern='(?u)\\\\b\\\\w\\\\w+\\\\b',\n",
       "           tokenizer=<function tokenize at 0x7f65e4052d08>, vocabulary=None)),\n",
       "  ('tfidf',\n",
       "   TfidfTransformer(norm='l2', smooth_idf=True, sublinear_tf=False, use_idf=True)),\n",
       "  ('clf',\n",
       "   MultiOutputClassifier(estimator=RandomForestClassifier(bootstrap=True, class_weight=None, criterion='gini',\n",
       "               max_depth=None, max_features='auto', max_leaf_nodes=None,\n",
       "               min_impurity_decrease=0.0, min_impurity_split=None,\n",
       "               min_samples_leaf=1, min_samples_split=2,\n",
       "               min_weight_fraction_leaf=0.0, n_estimators=10, n_jobs=1,\n",
       "               oob_score=False, random_state=None, verbose=0,\n",
       "               warm_start=False),\n",
       "              n_jobs=1))],\n",
       " 'vect': CountVectorizer(analyzer='word', binary=False, decode_error='strict',\n",
       "         dtype=<class 'numpy.int64'>, encoding='utf-8', input='content',\n",
       "         lowercase=True, max_df=1.0, max_features=None, min_df=1,\n",
       "         ngram_range=(1, 1), preprocessor=None, stop_words=None,\n",
       "         strip_accents=None, token_pattern='(?u)\\\\b\\\\w\\\\w+\\\\b',\n",
       "         tokenizer=<function tokenize at 0x7f65e4052d08>, vocabulary=None),\n",
       " 'tfidf': TfidfTransformer(norm='l2', smooth_idf=True, sublinear_tf=False, use_idf=True),\n",
       " 'clf': MultiOutputClassifier(estimator=RandomForestClassifier(bootstrap=True, class_weight=None, criterion='gini',\n",
       "             max_depth=None, max_features='auto', max_leaf_nodes=None,\n",
       "             min_impurity_decrease=0.0, min_impurity_split=None,\n",
       "             min_samples_leaf=1, min_samples_split=2,\n",
       "             min_weight_fraction_leaf=0.0, n_estimators=10, n_jobs=1,\n",
       "             oob_score=False, random_state=None, verbose=0,\n",
       "             warm_start=False),\n",
       "            n_jobs=1),\n",
       " 'vect__analyzer': 'word',\n",
       " 'vect__binary': False,\n",
       " 'vect__decode_error': 'strict',\n",
       " 'vect__dtype': numpy.int64,\n",
       " 'vect__encoding': 'utf-8',\n",
       " 'vect__input': 'content',\n",
       " 'vect__lowercase': True,\n",
       " 'vect__max_df': 1.0,\n",
       " 'vect__max_features': None,\n",
       " 'vect__min_df': 1,\n",
       " 'vect__ngram_range': (1, 1),\n",
       " 'vect__preprocessor': None,\n",
       " 'vect__stop_words': None,\n",
       " 'vect__strip_accents': None,\n",
       " 'vect__token_pattern': '(?u)\\\\b\\\\w\\\\w+\\\\b',\n",
       " 'vect__tokenizer': <function __main__.tokenize(text)>,\n",
       " 'vect__vocabulary': None,\n",
       " 'tfidf__norm': 'l2',\n",
       " 'tfidf__smooth_idf': True,\n",
       " 'tfidf__sublinear_tf': False,\n",
       " 'tfidf__use_idf': True,\n",
       " 'clf__estimator__bootstrap': True,\n",
       " 'clf__estimator__class_weight': None,\n",
       " 'clf__estimator__criterion': 'gini',\n",
       " 'clf__estimator__max_depth': None,\n",
       " 'clf__estimator__max_features': 'auto',\n",
       " 'clf__estimator__max_leaf_nodes': None,\n",
       " 'clf__estimator__min_impurity_decrease': 0.0,\n",
       " 'clf__estimator__min_impurity_split': None,\n",
       " 'clf__estimator__min_samples_leaf': 1,\n",
       " 'clf__estimator__min_samples_split': 2,\n",
       " 'clf__estimator__min_weight_fraction_leaf': 0.0,\n",
       " 'clf__estimator__n_estimators': 10,\n",
       " 'clf__estimator__n_jobs': 1,\n",
       " 'clf__estimator__oob_score': False,\n",
       " 'clf__estimator__random_state': None,\n",
       " 'clf__estimator__verbose': 0,\n",
       " 'clf__estimator__warm_start': False,\n",
       " 'clf__estimator': RandomForestClassifier(bootstrap=True, class_weight=None, criterion='gini',\n",
       "             max_depth=None, max_features='auto', max_leaf_nodes=None,\n",
       "             min_impurity_decrease=0.0, min_impurity_split=None,\n",
       "             min_samples_leaf=1, min_samples_split=2,\n",
       "             min_weight_fraction_leaf=0.0, n_estimators=10, n_jobs=1,\n",
       "             oob_score=False, random_state=None, verbose=0,\n",
       "             warm_start=False),\n",
       " 'clf__n_jobs': 1}"
      ]
     },
     "execution_count": 33,
     "metadata": {},
     "output_type": "execute_result"
    }
   ],
   "source": [
    "#get parameters\n",
    "pipeline.get_params()"
   ]
  },
  {
   "cell_type": "code",
   "execution_count": 17,
   "metadata": {},
   "outputs": [
    {
     "data": {
      "text/plain": [
       "Pipeline(memory=None,\n",
       "     steps=[('vect', CountVectorizer(analyzer='word', binary=False, decode_error='strict',\n",
       "        dtype=<class 'numpy.int64'>, encoding='utf-8', input='content',\n",
       "        lowercase=True, max_df=1.0, max_features=None, min_df=1,\n",
       "        ngram_range=(1, 1), preprocessor=None, stop_words=None,\n",
       "        strip...oob_score=False, random_state=None, verbose=0,\n",
       "            warm_start=False),\n",
       "           n_jobs=1))])"
      ]
     },
     "execution_count": 17,
     "metadata": {},
     "output_type": "execute_result"
    }
   ],
   "source": [
    "pipeline.fit(X_train, y_train)"
   ]
  },
  {
   "cell_type": "code",
   "execution_count": 35,
   "metadata": {},
   "outputs": [],
   "source": [
    "#predicting\n",
    "y_pred = pipeline.predict(X_test)"
   ]
  },
  {
   "cell_type": "code",
   "execution_count": 36,
   "metadata": {},
   "outputs": [
    {
     "name": "stdout",
     "output_type": "stream",
     "text": [
      "related                   0.802670\n",
      "request                   0.884806\n",
      "offer                     0.995423\n",
      "aid_related               0.750540\n",
      "medical_help              0.921933\n",
      "medical_products          0.950413\n",
      "search_and_rescue         0.975588\n",
      "security                  0.981437\n",
      "military                  0.969739\n",
      "child_alone               1.000000\n",
      "water                     0.948887\n",
      "food                      0.932231\n",
      "shelter                   0.929943\n",
      "clothing                  0.987285\n",
      "money                     0.979148\n",
      "missing_people            0.988303\n",
      "refugees                  0.966052\n",
      "death                     0.957788\n",
      "other_aid                 0.868913\n",
      "infrastructure_related    0.935029\n",
      "transport                 0.954736\n",
      "buildings                 0.953973\n",
      "electricity               0.978767\n",
      "tools                     0.993897\n",
      "hospitals                 0.990083\n",
      "shops                     0.996440\n",
      "aid_centers               0.986904\n",
      "other_infrastructure      0.955880\n",
      "weather_related           0.860776\n",
      "floods                    0.946853\n",
      "storm                     0.937063\n",
      "fire                      0.989447\n",
      "earthquake                0.967705\n",
      "cold                      0.980292\n",
      "other_weather             0.948125\n",
      "direct_report             0.839542\n",
      "dtype: float64\n"
     ]
    }
   ],
   "source": [
    "#finf accuracy\n",
    "accuracy = (y_pred == y_test).mean()\n",
    "print(accuracy)"
   ]
  },
  {
   "cell_type": "markdown",
   "metadata": {},
   "source": [
    "#### RandomForestClassifier' output with higher accuracy when compared with KNeighborsClassifier"
   ]
  },
  {
   "cell_type": "code",
   "execution_count": 18,
   "metadata": {},
   "outputs": [],
   "source": [
    "#pipeline using FeatureUnion\n",
    "pipeline = Pipeline([\n",
    "    ('features', FeatureUnion([\n",
    "        ('text_pipeline', Pipeline([\n",
    "            ('vect', CountVectorizer(tokenizer=tokenize)),\n",
    "            ('tfidf', TfidfTransformer())\n",
    "        ])),\n",
    "    ])),\n",
    "    ('clf',MultiOutputClassifier(RandomForestClassifier()))\n",
    "])"
   ]
  },
  {
   "cell_type": "code",
   "execution_count": 12,
   "metadata": {},
   "outputs": [
    {
     "data": {
      "text/plain": [
       "{'memory': None, 'steps': [('features', FeatureUnion(n_jobs=1,\n",
       "          transformer_list=[('text_pipeline', Pipeline(memory=None,\n",
       "        steps=[('vect', CountVectorizer(analyzer='word', binary=False, decode_error='strict',\n",
       "           dtype=<class 'numpy.int64'>, encoding='utf-8', input='content',\n",
       "           lowercase=True, max_df=1.0, max_features=None, min_df=1,\n",
       "           ngram_range=(1, 1), preprocessor=None, stop_words=None,\n",
       "           strip...y=None)), ('tfidf', TfidfTransformer(norm='l2', smooth_idf=True, sublinear_tf=False, use_idf=True))]))],\n",
       "          transformer_weights=None)),\n",
       "  ('clf',\n",
       "   MultiOutputClassifier(estimator=RandomForestClassifier(bootstrap=True, class_weight=None, criterion='gini',\n",
       "               max_depth=None, max_features='auto', max_leaf_nodes=None,\n",
       "               min_impurity_decrease=0.0, min_impurity_split=None,\n",
       "               min_samples_leaf=1, min_samples_split=2,\n",
       "               min_weight_fraction_leaf=0.0, n_estimators=10, n_jobs=1,\n",
       "               oob_score=False, random_state=None, verbose=0,\n",
       "               warm_start=False),\n",
       "              n_jobs=1))], 'features': FeatureUnion(n_jobs=1,\n",
       "        transformer_list=[('text_pipeline', Pipeline(memory=None,\n",
       "      steps=[('vect', CountVectorizer(analyzer='word', binary=False, decode_error='strict',\n",
       "         dtype=<class 'numpy.int64'>, encoding='utf-8', input='content',\n",
       "         lowercase=True, max_df=1.0, max_features=None, min_df=1,\n",
       "         ngram_range=(1, 1), preprocessor=None, stop_words=None,\n",
       "         strip...y=None)), ('tfidf', TfidfTransformer(norm='l2', smooth_idf=True, sublinear_tf=False, use_idf=True))]))],\n",
       "        transformer_weights=None), 'clf': MultiOutputClassifier(estimator=RandomForestClassifier(bootstrap=True, class_weight=None, criterion='gini',\n",
       "             max_depth=None, max_features='auto', max_leaf_nodes=None,\n",
       "             min_impurity_decrease=0.0, min_impurity_split=None,\n",
       "             min_samples_leaf=1, min_samples_split=2,\n",
       "             min_weight_fraction_leaf=0.0, n_estimators=10, n_jobs=1,\n",
       "             oob_score=False, random_state=None, verbose=0,\n",
       "             warm_start=False),\n",
       "            n_jobs=1), 'features__n_jobs': 1, 'features__transformer_list': [('text_pipeline',\n",
       "   Pipeline(memory=None,\n",
       "        steps=[('vect', CountVectorizer(analyzer='word', binary=False, decode_error='strict',\n",
       "           dtype=<class 'numpy.int64'>, encoding='utf-8', input='content',\n",
       "           lowercase=True, max_df=1.0, max_features=None, min_df=1,\n",
       "           ngram_range=(1, 1), preprocessor=None, stop_words=None,\n",
       "           strip...y=None)), ('tfidf', TfidfTransformer(norm='l2', smooth_idf=True, sublinear_tf=False, use_idf=True))]))], 'features__transformer_weights': None, 'features__text_pipeline': Pipeline(memory=None,\n",
       "      steps=[('vect', CountVectorizer(analyzer='word', binary=False, decode_error='strict',\n",
       "         dtype=<class 'numpy.int64'>, encoding='utf-8', input='content',\n",
       "         lowercase=True, max_df=1.0, max_features=None, min_df=1,\n",
       "         ngram_range=(1, 1), preprocessor=None, stop_words=None,\n",
       "         strip...y=None)), ('tfidf', TfidfTransformer(norm='l2', smooth_idf=True, sublinear_tf=False, use_idf=True))]), 'features__text_pipeline__memory': None, 'features__text_pipeline__steps': [('vect',\n",
       "   CountVectorizer(analyzer='word', binary=False, decode_error='strict',\n",
       "           dtype=<class 'numpy.int64'>, encoding='utf-8', input='content',\n",
       "           lowercase=True, max_df=1.0, max_features=None, min_df=1,\n",
       "           ngram_range=(1, 1), preprocessor=None, stop_words=None,\n",
       "           strip_accents=None, token_pattern='(?u)\\\\b\\\\w\\\\w+\\\\b',\n",
       "           tokenizer=<function tokenize at 0x7fc180554f28>, vocabulary=None)),\n",
       "  ('tfidf',\n",
       "   TfidfTransformer(norm='l2', smooth_idf=True, sublinear_tf=False, use_idf=True))], 'features__text_pipeline__vect': CountVectorizer(analyzer='word', binary=False, decode_error='strict',\n",
       "         dtype=<class 'numpy.int64'>, encoding='utf-8', input='content',\n",
       "         lowercase=True, max_df=1.0, max_features=None, min_df=1,\n",
       "         ngram_range=(1, 1), preprocessor=None, stop_words=None,\n",
       "         strip_accents=None, token_pattern='(?u)\\\\b\\\\w\\\\w+\\\\b',\n",
       "         tokenizer=<function tokenize at 0x7fc180554f28>, vocabulary=None), 'features__text_pipeline__tfidf': TfidfTransformer(norm='l2', smooth_idf=True, sublinear_tf=False, use_idf=True), 'features__text_pipeline__vect__analyzer': 'word', 'features__text_pipeline__vect__binary': False, 'features__text_pipeline__vect__decode_error': 'strict', 'features__text_pipeline__vect__dtype': numpy.int64, 'features__text_pipeline__vect__encoding': 'utf-8', 'features__text_pipeline__vect__input': 'content', 'features__text_pipeline__vect__lowercase': True, 'features__text_pipeline__vect__max_df': 1.0, 'features__text_pipeline__vect__max_features': None, 'features__text_pipeline__vect__min_df': 1, 'features__text_pipeline__vect__ngram_range': (1,\n",
       "  1), 'features__text_pipeline__vect__preprocessor': None, 'features__text_pipeline__vect__stop_words': None, 'features__text_pipeline__vect__strip_accents': None, 'features__text_pipeline__vect__token_pattern': '(?u)\\\\b\\\\w\\\\w+\\\\b', 'features__text_pipeline__vect__tokenizer': <function __main__.tokenize(text)>, 'features__text_pipeline__vect__vocabulary': None, 'features__text_pipeline__tfidf__norm': 'l2', 'features__text_pipeline__tfidf__smooth_idf': True, 'features__text_pipeline__tfidf__sublinear_tf': False, 'features__text_pipeline__tfidf__use_idf': True, 'clf__estimator__bootstrap': True, 'clf__estimator__class_weight': None, 'clf__estimator__criterion': 'gini', 'clf__estimator__max_depth': None, 'clf__estimator__max_features': 'auto', 'clf__estimator__max_leaf_nodes': None, 'clf__estimator__min_impurity_decrease': 0.0, 'clf__estimator__min_impurity_split': None, 'clf__estimator__min_samples_leaf': 1, 'clf__estimator__min_samples_split': 2, 'clf__estimator__min_weight_fraction_leaf': 0.0, 'clf__estimator__n_estimators': 10, 'clf__estimator__n_jobs': 1, 'clf__estimator__oob_score': False, 'clf__estimator__random_state': None, 'clf__estimator__verbose': 0, 'clf__estimator__warm_start': False, 'clf__estimator': RandomForestClassifier(bootstrap=True, class_weight=None, criterion='gini',\n",
       "             max_depth=None, max_features='auto', max_leaf_nodes=None,\n",
       "             min_impurity_decrease=0.0, min_impurity_split=None,\n",
       "             min_samples_leaf=1, min_samples_split=2,\n",
       "             min_weight_fraction_leaf=0.0, n_estimators=10, n_jobs=1,\n",
       "             oob_score=False, random_state=None, verbose=0,\n",
       "             warm_start=False), 'clf__n_jobs': 1}"
      ]
     },
     "execution_count": 12,
     "metadata": {},
     "output_type": "execute_result"
    }
   ],
   "source": [
    "#get parameters\n",
    "pipeline.get_params()"
   ]
  },
  {
   "cell_type": "code",
   "execution_count": 19,
   "metadata": {},
   "outputs": [
    {
     "data": {
      "text/plain": [
       "Pipeline(memory=None,\n",
       "     steps=[('features', FeatureUnion(n_jobs=1,\n",
       "       transformer_list=[('text_pipeline', Pipeline(memory=None,\n",
       "     steps=[('vect', CountVectorizer(analyzer='word', binary=False, decode_error='strict',\n",
       "        dtype=<class 'numpy.int64'>, encoding='utf-8', input='content',\n",
       "        lowercase=True, max_d...oob_score=False, random_state=None, verbose=0,\n",
       "            warm_start=False),\n",
       "           n_jobs=1))])"
      ]
     },
     "execution_count": 19,
     "metadata": {},
     "output_type": "execute_result"
    }
   ],
   "source": [
    "#fit pipeline\n",
    "pipeline.fit(X_train, y_train)"
   ]
  },
  {
   "cell_type": "code",
   "execution_count": 20,
   "metadata": {},
   "outputs": [],
   "source": [
    "y_pred = pipeline.predict(X_test)"
   ]
  },
  {
   "cell_type": "markdown",
   "metadata": {},
   "source": [
    "### 5. Test your model\n",
    "Report the f1 score, precision and recall for each output category of the dataset. You can do this by iterating through the columns and calling sklearn's `classification_report` on each."
   ]
  },
  {
   "cell_type": "code",
   "execution_count": 26,
   "metadata": {},
   "outputs": [
    {
     "data": {
      "text/plain": [
       "((7865, 36), (7865, 36), 36)"
      ]
     },
     "execution_count": 26,
     "metadata": {},
     "output_type": "execute_result"
    }
   ],
   "source": [
    "#find shape\n",
    "y_pred.shape,y_test.shape,len(list(y.columns))"
   ]
  },
  {
   "cell_type": "code",
   "execution_count": 21,
   "metadata": {},
   "outputs": [],
   "source": [
    "#make names of columns equal in y_pred and y_test\n",
    "y_pred = pd.DataFrame(y_pred, columns = y.columns)\n",
    "y_test = pd.DataFrame(y_test, columns=y.columns)"
   ]
  },
  {
   "cell_type": "code",
   "execution_count": 24,
   "metadata": {},
   "outputs": [
    {
     "data": {
      "text/plain": [
       "Index(['related', 'request', 'offer', 'aid_related', 'medical_help',\n",
       "       'medical_products', 'search_and_rescue', 'security', 'military',\n",
       "       'child_alone', 'water', 'food', 'shelter', 'clothing', 'money',\n",
       "       'missing_people', 'refugees', 'death', 'other_aid',\n",
       "       'infrastructure_related', 'transport', 'buildings', 'electricity',\n",
       "       'tools', 'hospitals', 'shops', 'aid_centers', 'other_infrastructure',\n",
       "       'weather_related', 'floods', 'storm', 'fire', 'earthquake', 'cold',\n",
       "       'other_weather', 'direct_report'],\n",
       "      dtype='object')"
      ]
     },
     "execution_count": 24,
     "metadata": {},
     "output_type": "execute_result"
    }
   ],
   "source": [
    "#see columns\n",
    "y_pred.columns"
   ]
  },
  {
   "cell_type": "code",
   "execution_count": 21,
   "metadata": {},
   "outputs": [
    {
     "data": {
      "text/plain": [
       "Index(['related', 'request', 'offer', 'aid_related', 'medical_help',\n",
       "       'medical_products', 'search_and_rescue', 'security', 'military',\n",
       "       'child_alone', 'water', 'food', 'shelter', 'clothing', 'money',\n",
       "       'missing_people', 'refugees', 'death', 'other_aid',\n",
       "       'infrastructure_related', 'transport', 'buildings', 'electricity',\n",
       "       'tools', 'hospitals', 'shops', 'aid_centers', 'other_infrastructure',\n",
       "       'weather_related', 'floods', 'storm', 'fire', 'earthquake', 'cold',\n",
       "       'other_weather', 'direct_report'],\n",
       "      dtype='object')"
      ]
     },
     "execution_count": 21,
     "metadata": {},
     "output_type": "execute_result"
    }
   ],
   "source": [
    "#see columns\n",
    "y_test.columns"
   ]
  },
  {
   "cell_type": "code",
   "execution_count": 22,
   "metadata": {},
   "outputs": [],
   "source": [
    "#replace all 2 with 1 in order to avoid errors\n",
    "y_test = y_test.replace(2,1)"
   ]
  },
  {
   "cell_type": "code",
   "execution_count": 44,
   "metadata": {},
   "outputs": [
    {
     "name": "stdout",
     "output_type": "stream",
     "text": [
      "[0 1]\n"
     ]
    }
   ],
   "source": [
    "#verify values\n",
    "print(np.unique(y_test))"
   ]
  },
  {
   "cell_type": "code",
   "execution_count": 23,
   "metadata": {},
   "outputs": [],
   "source": [
    "#replace 2 with 1 to avoid error\n",
    "y_pred = y_pred.replace(2,1)"
   ]
  },
  {
   "cell_type": "code",
   "execution_count": 25,
   "metadata": {
    "scrolled": false
   },
   "outputs": [
    {
     "name": "stdout",
     "output_type": "stream",
     "text": [
      "                        precision    recall  f1-score   support\n",
      "\n",
      "               related       0.84      0.91      0.88      5992\n",
      "               request       0.77      0.40      0.52      1332\n",
      "                 offer       0.00      0.00      0.00        36\n",
      "           aid_related       0.73      0.61      0.66      3219\n",
      "          medical_help       0.58      0.10      0.17       638\n",
      "      medical_products       0.75      0.07      0.13       418\n",
      "     search_and_rescue       0.40      0.02      0.04       192\n",
      "              security       0.00      0.00      0.00       144\n",
      "              military       0.61      0.08      0.14       245\n",
      "           child_alone       0.00      0.00      0.00         0\n",
      "                 water       0.82      0.27      0.41       500\n",
      "                  food       0.85      0.47      0.60       878\n",
      "               shelter       0.78      0.28      0.41       705\n",
      "              clothing       0.82      0.27      0.41       115\n",
      "                 money       0.69      0.05      0.10       170\n",
      "        missing_people       1.00      0.02      0.04        92\n",
      "              refugees       0.68      0.10      0.17       260\n",
      "                 death       0.86      0.10      0.18       366\n",
      "             other_aid       0.53      0.07      0.12      1033\n",
      "infrastructure_related       0.10      0.00      0.00       505\n",
      "             transport       0.58      0.08      0.14       362\n",
      "             buildings       0.81      0.11      0.20       392\n",
      "           electricity       0.73      0.05      0.09       168\n",
      "                 tools       0.00      0.00      0.00        48\n",
      "             hospitals       0.00      0.00      0.00        78\n",
      "                 shops       0.00      0.00      0.00        28\n",
      "           aid_centers       0.00      0.00      0.00       103\n",
      "  other_infrastructure       0.20      0.00      0.01       341\n",
      "       weather_related       0.81      0.62      0.70      2163\n",
      "                floods       0.86      0.43      0.57       623\n",
      "                 storm       0.75      0.44      0.55       738\n",
      "                  fire       0.43      0.04      0.07        83\n",
      "            earthquake       0.88      0.74      0.80       702\n",
      "                  cold       0.65      0.06      0.12       171\n",
      "         other_weather       0.59      0.06      0.10       415\n",
      "         direct_report       0.72      0.31      0.44      1544\n",
      "\n",
      "           avg / total       0.73      0.49      0.54     24799\n",
      "\n"
     ]
    },
    {
     "name": "stderr",
     "output_type": "stream",
     "text": [
      "/opt/conda/lib/python3.6/site-packages/sklearn/metrics/classification.py:1135: UndefinedMetricWarning: Precision and F-score are ill-defined and being set to 0.0 in labels with no predicted samples.\n",
      "  'precision', 'predicted', average, warn_for)\n",
      "/opt/conda/lib/python3.6/site-packages/sklearn/metrics/classification.py:1137: UndefinedMetricWarning: Recall and F-score are ill-defined and being set to 0.0 in labels with no true samples.\n",
      "  'recall', 'true', average, warn_for)\n"
     ]
    }
   ],
   "source": [
    "#print classification report\n",
    "target_names=y.columns\n",
    "print(classification_report(y_test, y_pred, target_names = target_names))"
   ]
  },
  {
   "cell_type": "markdown",
   "metadata": {},
   "source": [
    "### 6. Improve your model\n",
    "Use grid search to find better parameters. "
   ]
  },
  {
   "cell_type": "code",
   "execution_count": 26,
   "metadata": {},
   "outputs": [
    {
     "data": {
      "text/plain": [
       "['memory',\n",
       " 'steps',\n",
       " 'features',\n",
       " 'clf',\n",
       " 'features__n_jobs',\n",
       " 'features__transformer_list',\n",
       " 'features__transformer_weights',\n",
       " 'features__text_pipeline',\n",
       " 'features__text_pipeline__memory',\n",
       " 'features__text_pipeline__steps',\n",
       " 'features__text_pipeline__vect',\n",
       " 'features__text_pipeline__tfidf',\n",
       " 'features__text_pipeline__vect__analyzer',\n",
       " 'features__text_pipeline__vect__binary',\n",
       " 'features__text_pipeline__vect__decode_error',\n",
       " 'features__text_pipeline__vect__dtype',\n",
       " 'features__text_pipeline__vect__encoding',\n",
       " 'features__text_pipeline__vect__input',\n",
       " 'features__text_pipeline__vect__lowercase',\n",
       " 'features__text_pipeline__vect__max_df',\n",
       " 'features__text_pipeline__vect__max_features',\n",
       " 'features__text_pipeline__vect__min_df',\n",
       " 'features__text_pipeline__vect__ngram_range',\n",
       " 'features__text_pipeline__vect__preprocessor',\n",
       " 'features__text_pipeline__vect__stop_words',\n",
       " 'features__text_pipeline__vect__strip_accents',\n",
       " 'features__text_pipeline__vect__token_pattern',\n",
       " 'features__text_pipeline__vect__tokenizer',\n",
       " 'features__text_pipeline__vect__vocabulary',\n",
       " 'features__text_pipeline__tfidf__norm',\n",
       " 'features__text_pipeline__tfidf__smooth_idf',\n",
       " 'features__text_pipeline__tfidf__sublinear_tf',\n",
       " 'features__text_pipeline__tfidf__use_idf',\n",
       " 'clf__estimator__bootstrap',\n",
       " 'clf__estimator__class_weight',\n",
       " 'clf__estimator__criterion',\n",
       " 'clf__estimator__max_depth',\n",
       " 'clf__estimator__max_features',\n",
       " 'clf__estimator__max_leaf_nodes',\n",
       " 'clf__estimator__min_impurity_decrease',\n",
       " 'clf__estimator__min_impurity_split',\n",
       " 'clf__estimator__min_samples_leaf',\n",
       " 'clf__estimator__min_samples_split',\n",
       " 'clf__estimator__min_weight_fraction_leaf',\n",
       " 'clf__estimator__n_estimators',\n",
       " 'clf__estimator__n_jobs',\n",
       " 'clf__estimator__oob_score',\n",
       " 'clf__estimator__random_state',\n",
       " 'clf__estimator__verbose',\n",
       " 'clf__estimator__warm_start',\n",
       " 'clf__estimator',\n",
       " 'clf__n_jobs']"
      ]
     },
     "execution_count": 26,
     "metadata": {},
     "output_type": "execute_result"
    }
   ],
   "source": [
    "#listing parameters\n",
    "list(pipeline.get_params().keys())"
   ]
  },
  {
   "cell_type": "code",
   "execution_count": 32,
   "metadata": {},
   "outputs": [],
   "source": [
    "#choose parameters\n",
    "parameters = {\n",
    "    'clf__estimator__n_estimators':[100, 150, 200],\n",
    "}\n",
    "# use GridSearchCV\n",
    "cv = GridSearchCV(pipeline, param_grid=parameters, verbose=3)"
   ]
  },
  {
   "cell_type": "code",
   "execution_count": 33,
   "metadata": {},
   "outputs": [
    {
     "name": "stdout",
     "output_type": "stream",
     "text": [
      "Fitting 3 folds for each of 3 candidates, totalling 9 fits\n",
      "[CV] clf__estimator__n_estimators=100 ................................\n",
      "[CV]  clf__estimator__n_estimators=100, score=0.25862350825568087, total= 6.3min\n",
      "[CV] clf__estimator__n_estimators=100 ................................\n"
     ]
    },
    {
     "name": "stderr",
     "output_type": "stream",
     "text": [
      "[Parallel(n_jobs=1)]: Done   1 out of   1 | elapsed:  7.8min remaining:    0.0s\n"
     ]
    },
    {
     "name": "stdout",
     "output_type": "stream",
     "text": [
      "[CV]  clf__estimator__n_estimators=100, score=0.26745136504822625, total= 6.3min\n",
      "[CV] clf__estimator__n_estimators=100 ................................\n"
     ]
    },
    {
     "name": "stderr",
     "output_type": "stream",
     "text": [
      "[Parallel(n_jobs=1)]: Done   2 out of   2 | elapsed: 15.6min remaining:    0.0s\n"
     ]
    },
    {
     "name": "stdout",
     "output_type": "stream",
     "text": [
      "[CV]  clf__estimator__n_estimators=100, score=0.2694131110021252, total= 6.3min\n",
      "[CV] clf__estimator__n_estimators=150 ................................\n",
      "[CV]  clf__estimator__n_estimators=150, score=0.2574791564492398, total= 8.6min\n",
      "[CV] clf__estimator__n_estimators=150 ................................\n",
      "[CV]  clf__estimator__n_estimators=150, score=0.2651626614353441, total= 8.7min\n",
      "[CV] clf__estimator__n_estimators=150 ................................\n",
      "[CV]  clf__estimator__n_estimators=150, score=0.26467222494686937, total= 8.6min\n",
      "[CV] clf__estimator__n_estimators=200 ................................\n",
      "[CV]  clf__estimator__n_estimators=200, score=0.2582965505966977, total=11.1min\n",
      "[CV] clf__estimator__n_estimators=200 ................................\n",
      "[CV]  clf__estimator__n_estimators=200, score=0.26483570377636095, total=11.1min\n",
      "[CV] clf__estimator__n_estimators=200 ................................\n",
      "[CV]  clf__estimator__n_estimators=200, score=0.26745136504822625, total=11.1min\n"
     ]
    },
    {
     "name": "stderr",
     "output_type": "stream",
     "text": [
      "[Parallel(n_jobs=1)]: Done   9 out of   9 | elapsed: 93.9min finished\n"
     ]
    }
   ],
   "source": [
    "#fit model\n",
    "model=cv.fit(X_train, y_train)\n"
   ]
  },
  {
   "cell_type": "code",
   "execution_count": 34,
   "metadata": {},
   "outputs": [],
   "source": [
    "#predict\n",
    "y_pred=model.predict(X_test)"
   ]
  },
  {
   "cell_type": "markdown",
   "metadata": {},
   "source": [
    "### 7. Test your model\n",
    "Show the accuracy, precision, and recall of the tuned model.  \n",
    "\n",
    "Since this project focuses on code quality, process, and  pipelines, there is no minimum performance metric needed to pass. However, make sure to fine tune your models for accuracy, precision and recall to make your project stand out - especially for your portfolio!"
   ]
  },
  {
   "cell_type": "code",
   "execution_count": 36,
   "metadata": {},
   "outputs": [
    {
     "name": "stdout",
     "output_type": "stream",
     "text": [
      "related                   0.815003\n",
      "request                   0.897012\n",
      "offer                     0.995423\n",
      "aid_related               0.780038\n",
      "medical_help              0.921551\n",
      "medical_products          0.949905\n",
      "search_and_rescue         0.975969\n",
      "security                  0.981310\n",
      "military                  0.969612\n",
      "child_alone               1.000000\n",
      "water                     0.956389\n",
      "food                      0.945582\n",
      "shelter                   0.936427\n",
      "clothing                  0.986014\n",
      "money                     0.979148\n",
      "missing_people            0.988303\n",
      "refugees                  0.966561\n",
      "death                     0.957915\n",
      "other_aid                 0.869930\n",
      "infrastructure_related    0.935919\n",
      "transport                 0.955499\n",
      "buildings                 0.953083\n",
      "electricity               0.979021\n",
      "tools                     0.993897\n",
      "hospitals                 0.989955\n",
      "shops                     0.996440\n",
      "aid_centers               0.986904\n",
      "other_infrastructure      0.956516\n",
      "weather_related           0.879847\n",
      "floods                    0.955880\n",
      "storm                     0.941386\n",
      "fire                      0.989447\n",
      "earthquake                0.971647\n",
      "cold                      0.979402\n",
      "other_weather             0.947870\n",
      "direct_report             0.850858\n",
      "dtype: float64\n"
     ]
    }
   ],
   "source": [
    "#find accuracy\n",
    "accuracy = (y_pred == y_test).mean()\n",
    "print(accuracy)"
   ]
  },
  {
   "cell_type": "code",
   "execution_count": 38,
   "metadata": {},
   "outputs": [],
   "source": [
    "#make columns equal in y_pred and y_test\n",
    "y_pred = pd.DataFrame(y_pred, columns = y.columns)\n",
    "y_test = pd.DataFrame(y_test, columns=y.columns)"
   ]
  },
  {
   "cell_type": "code",
   "execution_count": 40,
   "metadata": {},
   "outputs": [],
   "source": [
    "#replace all 2 with 1\n",
    "y_pred = y_pred.replace(2,1)"
   ]
  },
  {
   "cell_type": "code",
   "execution_count": 41,
   "metadata": {},
   "outputs": [
    {
     "name": "stdout",
     "output_type": "stream",
     "text": [
      "                        precision    recall  f1-score   support\n",
      "\n",
      "               related       0.84      0.95      0.89      5992\n",
      "               request       0.83      0.49      0.62      1332\n",
      "                 offer       0.00      0.00      0.00        36\n",
      "           aid_related       0.75      0.69      0.72      3219\n",
      "          medical_help       0.67      0.06      0.12       638\n",
      "      medical_products       0.90      0.06      0.12       418\n",
      "     search_and_rescue       0.59      0.05      0.10       192\n",
      "              security       0.00      0.00      0.00       144\n",
      "              military       0.62      0.07      0.12       245\n",
      "           child_alone       0.00      0.00      0.00         0\n",
      "                 water       0.88      0.36      0.51       500\n",
      "                  food       0.85      0.63      0.72       878\n",
      "               shelter       0.82      0.37      0.51       705\n",
      "              clothing       0.73      0.07      0.13       115\n",
      "                 money       0.80      0.05      0.09       170\n",
      "        missing_people       0.00      0.00      0.00        92\n",
      "              refugees       0.36      0.02      0.03       260\n",
      "                 death       0.83      0.12      0.21       366\n",
      "             other_aid       0.58      0.04      0.07      1033\n",
      "infrastructure_related       1.00      0.00      0.00       505\n",
      "             transport       0.68      0.06      0.12       362\n",
      "             buildings       0.79      0.08      0.14       392\n",
      "           electricity       1.00      0.02      0.04       168\n",
      "                 tools       0.00      0.00      0.00        48\n",
      "             hospitals       0.00      0.00      0.00        78\n",
      "                 shops       0.00      0.00      0.00        28\n",
      "           aid_centers       0.00      0.00      0.00       103\n",
      "  other_infrastructure       0.00      0.00      0.00       341\n",
      "       weather_related       0.84      0.69      0.76      2163\n",
      "                floods       0.88      0.51      0.65       623\n",
      "                 storm       0.78      0.52      0.62       738\n",
      "                  fire       0.00      0.00      0.00        83\n",
      "            earthquake       0.88      0.79      0.83       702\n",
      "                  cold       0.80      0.07      0.13       171\n",
      "         other_weather       0.63      0.03      0.06       415\n",
      "         direct_report       0.76      0.35      0.48      1544\n",
      "\n",
      "           avg / total       0.76      0.53      0.57     24799\n",
      "\n"
     ]
    },
    {
     "name": "stderr",
     "output_type": "stream",
     "text": [
      "/opt/conda/lib/python3.6/site-packages/sklearn/metrics/classification.py:1135: UndefinedMetricWarning: Precision and F-score are ill-defined and being set to 0.0 in labels with no predicted samples.\n",
      "  'precision', 'predicted', average, warn_for)\n",
      "/opt/conda/lib/python3.6/site-packages/sklearn/metrics/classification.py:1137: UndefinedMetricWarning: Recall and F-score are ill-defined and being set to 0.0 in labels with no true samples.\n",
      "  'recall', 'true', average, warn_for)\n"
     ]
    }
   ],
   "source": [
    "#print classification report\n",
    "target_names=y.columns\n",
    "print(classification_report(y_test, y_pred, target_names = target_names))"
   ]
  },
  {
   "cell_type": "markdown",
   "metadata": {},
   "source": [
    "### 8. Try improving your model further. Here are a few ideas:\n",
    "* try other machine learning algorithms\n",
    "* add other features besides the TF-IDF"
   ]
  },
  {
   "cell_type": "code",
   "execution_count": 8,
   "metadata": {},
   "outputs": [
    {
     "name": "stdout",
     "output_type": "stream",
     "text": [
      "[0 1]\n"
     ]
    }
   ],
   "source": [
    "#replace 2 with 1 to avoid errors\n",
    "y=y.replace(2,1)\n",
    "print(np.unique(y))"
   ]
  },
  {
   "cell_type": "code",
   "execution_count": 9,
   "metadata": {},
   "outputs": [],
   "source": [
    "#verb extraction\n",
    "class VerbExtractor(BaseEstimator, TransformerMixin):\n",
    "    def verb(self, text):\n",
    "        sentence_list = nltk.sent_tokenize(text)\n",
    "        for sentence in sentence_list:\n",
    "            pos_tags = nltk.pos_tag(tokenize(sentence))\n",
    "            try:\n",
    "                first_word, first_tag = pos_tags[0]\n",
    "                if first_tag in ['VB', 'VBP'] or first_word == 'RT':\n",
    "                    return True\n",
    "            except:\n",
    "                return False\n",
    "        return False\n",
    "    \n",
    "    def fit(self, x, y=None):\n",
    "        return self\n",
    "    def transform(self, X):\n",
    "        X_tagged = pd.Series(X).apply(self.verb)\n",
    "        return pd.DataFrame(X_tagged)"
   ]
  },
  {
   "cell_type": "code",
   "execution_count": 20,
   "metadata": {},
   "outputs": [],
   "source": [
    "#redefining pipeline \n",
    "pipeline = Pipeline([\n",
    "    ('features', FeatureUnion([\n",
    "        ('text_pipeline', Pipeline([\n",
    "            ('vect', CountVectorizer(tokenizer=tokenize)),\n",
    "            ('tfidf', TfidfTransformer())\n",
    "        ])),\n",
    "        ('verb', VerbExtractor())\n",
    "    ])),\n",
    "    ('clf',MultiOutputClassifier(RandomForestClassifier()))\n",
    "])\n",
    "parameters = {\n",
    "    'clf__estimator__n_estimators':[100,200],\n",
    "    'features__text_pipeline__vect__max_df':(0.75,1.0)\n",
    "}\n"
   ]
  },
  {
   "cell_type": "code",
   "execution_count": 10,
   "metadata": {},
   "outputs": [],
   "source": [
    "def build_model():\n",
    "    pipeline = Pipeline([\n",
    "    ('features', FeatureUnion([\n",
    "        ('text_pipeline', Pipeline([\n",
    "            ('vect', CountVectorizer(tokenizer=tokenize)),\n",
    "            ('tfidf', TfidfTransformer())\n",
    "        ])),\n",
    "        ('verb', VerbExtractor())\n",
    "    ])),\n",
    "    ('clf',MultiOutputClassifier(RandomForestClassifier()))\n",
    "])\n",
    "    parameters = {\n",
    "        'clf__estimator__n_estimators':[100,200],\n",
    "        'features__text_pipeline__vect__max_df':(0.75,1.0)\n",
    "    }\n",
    "    #create grid_search\n",
    "    cv = GridSearchCV(pipeline, param_grid = parameters, verbose = 3)\n",
    "    \n",
    "    return cv"
   ]
  },
  {
   "cell_type": "code",
   "execution_count": 11,
   "metadata": {},
   "outputs": [],
   "source": [
    "def display_results(cv, y_test, y_pred):\n",
    "    accuracy = (y_pred == y_test).mean()\n",
    "    target_names=y.columns\n",
    "    print('Accuracy:', accuracy)\n",
    "    print(classification_report(y_test, y_pred, target_names = target_names))\n",
    "    print('\\nBest Parameters:', cv.best_params_)"
   ]
  },
  {
   "cell_type": "code",
   "execution_count": 12,
   "metadata": {
    "scrolled": false
   },
   "outputs": [
    {
     "name": "stdout",
     "output_type": "stream",
     "text": [
      "Fitting 3 folds for each of 4 candidates, totalling 12 fits\n",
      "[CV] clf__estimator__n_estimators=100, features__text_pipeline__vect__max_df=0.75 \n",
      "[CV]  clf__estimator__n_estimators=100, features__text_pipeline__vect__max_df=0.75, score=0.261049921327421, total= 9.9min\n",
      "[CV] clf__estimator__n_estimators=100, features__text_pipeline__vect__max_df=0.75 \n"
     ]
    },
    {
     "name": "stderr",
     "output_type": "stream",
     "text": [
      "[Parallel(n_jobs=1)]: Done   1 out of   1 | elapsed: 13.1min remaining:    0.0s\n"
     ]
    },
    {
     "name": "stdout",
     "output_type": "stream",
     "text": [
      "[CV]  clf__estimator__n_estimators=100, features__text_pipeline__vect__max_df=0.75, score=0.2614790444857674, total= 9.9min\n",
      "[CV] clf__estimator__n_estimators=100, features__text_pipeline__vect__max_df=0.75 \n"
     ]
    },
    {
     "name": "stderr",
     "output_type": "stream",
     "text": [
      "[Parallel(n_jobs=1)]: Done   2 out of   2 | elapsed: 26.3min remaining:    0.0s\n"
     ]
    },
    {
     "name": "stdout",
     "output_type": "stream",
     "text": [
      "[CV]  clf__estimator__n_estimators=100, features__text_pipeline__vect__max_df=0.75, score=0.2708154506437768, total= 9.9min\n",
      "[CV] clf__estimator__n_estimators=100, features__text_pipeline__vect__max_df=1.0 \n",
      "[CV]  clf__estimator__n_estimators=100, features__text_pipeline__vect__max_df=1.0, score=0.2603347160635102, total= 9.9min\n",
      "[CV] clf__estimator__n_estimators=100, features__text_pipeline__vect__max_df=1.0 \n",
      "[CV]  clf__estimator__n_estimators=100, features__text_pipeline__vect__max_df=1.0, score=0.26276641396080674, total=10.0min\n",
      "[CV] clf__estimator__n_estimators=100, features__text_pipeline__vect__max_df=1.0 \n",
      "[CV]  clf__estimator__n_estimators=100, features__text_pipeline__vect__max_df=1.0, score=0.26995708154506437, total=10.0min\n",
      "[CV] clf__estimator__n_estimators=200, features__text_pipeline__vect__max_df=0.75 \n",
      "[CV]  clf__estimator__n_estimators=200, features__text_pipeline__vect__max_df=0.75, score=0.26305249606637104, total=15.8min\n",
      "[CV] clf__estimator__n_estimators=200, features__text_pipeline__vect__max_df=0.75 \n",
      "[CV]  clf__estimator__n_estimators=200, features__text_pipeline__vect__max_df=0.75, score=0.26362466027749965, total=15.8min\n",
      "[CV] clf__estimator__n_estimators=200, features__text_pipeline__vect__max_df=0.75 \n",
      "[CV]  clf__estimator__n_estimators=200, features__text_pipeline__vect__max_df=0.75, score=0.27467811158798283, total=15.9min\n",
      "[CV] clf__estimator__n_estimators=200, features__text_pipeline__vect__max_df=1.0 \n",
      "[CV]  clf__estimator__n_estimators=200, features__text_pipeline__vect__max_df=1.0, score=0.261049921327421, total=15.7min\n",
      "[CV] clf__estimator__n_estimators=200, features__text_pipeline__vect__max_df=1.0 \n",
      "[CV]  clf__estimator__n_estimators=200, features__text_pipeline__vect__max_df=1.0, score=0.265913317122014, total=15.9min\n",
      "[CV] clf__estimator__n_estimators=200, features__text_pipeline__vect__max_df=1.0 \n",
      "[CV]  clf__estimator__n_estimators=200, features__text_pipeline__vect__max_df=1.0, score=0.27811158798283264, total=16.1min\n"
     ]
    },
    {
     "name": "stderr",
     "output_type": "stream",
     "text": [
      "[Parallel(n_jobs=1)]: Done  12 out of  12 | elapsed: 197.4min finished\n"
     ]
    },
    {
     "name": "stdout",
     "output_type": "stream",
     "text": [
      "Accuracy: related                   0.817506\n",
      "request                   0.895881\n",
      "offer                     0.995042\n",
      "aid_related               0.786613\n",
      "medical_help              0.923341\n",
      "medical_products          0.951754\n",
      "search_and_rescue         0.975782\n",
      "security                  0.982838\n",
      "military                  0.971014\n",
      "child_alone               1.000000\n",
      "water                     0.957475\n",
      "food                      0.944127\n",
      "shelter                   0.939550\n",
      "clothing                  0.987605\n",
      "money                     0.981503\n",
      "missing_people            0.988749\n",
      "refugees                  0.967773\n",
      "death                     0.959573\n",
      "other_aid                 0.867086\n",
      "infrastructure_related    0.937071\n",
      "transport                 0.955568\n",
      "buildings                 0.951945\n",
      "electricity               0.977498\n",
      "tools                     0.993898\n",
      "hospitals                 0.991228\n",
      "shops                     0.995805\n",
      "aid_centers               0.987223\n",
      "other_infrastructure      0.957285\n",
      "weather_related           0.881579\n",
      "floods                    0.957666\n",
      "storm                     0.943364\n",
      "fire                      0.989703\n",
      "earthquake                0.968535\n",
      "cold                      0.979596\n",
      "other_weather             0.948131\n",
      "direct_report             0.852784\n",
      "dtype: float64\n",
      "                        precision    recall  f1-score   support\n",
      "\n",
      "               related       0.83      0.95      0.89      3978\n",
      "               request       0.85      0.48      0.61       895\n",
      "                 offer       0.00      0.00      0.00        26\n",
      "           aid_related       0.76      0.70      0.73      2131\n",
      "          medical_help       0.70      0.08      0.15       422\n",
      "      medical_products       0.84      0.08      0.14       270\n",
      "     search_and_rescue       0.50      0.03      0.06       127\n",
      "              security       0.25      0.01      0.02        88\n",
      "              military       0.62      0.05      0.10       155\n",
      "           child_alone       0.00      0.00      0.00         0\n",
      "                 water       0.88      0.40      0.55       339\n",
      "                  food       0.86      0.60      0.71       595\n",
      "               shelter       0.83      0.41      0.55       470\n",
      "              clothing       1.00      0.11      0.20        73\n",
      "                 money       0.89      0.08      0.14       104\n",
      "        missing_people       1.00      0.02      0.03        60\n",
      "              refugees       0.75      0.02      0.03       171\n",
      "                 death       0.84      0.13      0.23       237\n",
      "             other_aid       0.47      0.03      0.05       695\n",
      "infrastructure_related       0.00      0.00      0.00       328\n",
      "             transport       0.64      0.07      0.12       240\n",
      "             buildings       0.76      0.08      0.15       267\n",
      "           electricity       1.00      0.03      0.06       122\n",
      "                 tools       0.00      0.00      0.00        32\n",
      "             hospitals       0.00      0.00      0.00        46\n",
      "                 shops       0.00      0.00      0.00        22\n",
      "           aid_centers       0.00      0.00      0.00        67\n",
      "  other_infrastructure       0.00      0.00      0.00       223\n",
      "       weather_related       0.84      0.70      0.76      1438\n",
      "                floods       0.90      0.52      0.66       411\n",
      "                 storm       0.78      0.55      0.64       486\n",
      "                  fire       0.00      0.00      0.00        53\n",
      "            earthquake       0.86      0.78      0.82       478\n",
      "                  cold       0.75      0.13      0.22       117\n",
      "         other_weather       0.83      0.02      0.04       276\n",
      "         direct_report       0.78      0.34      0.47      1021\n",
      "\n",
      "           avg / total       0.76      0.53      0.57     16463\n",
      "\n",
      "\n",
      "Best Parameters: {'clf__estimator__n_estimators': 200, 'features__text_pipeline__vect__max_df': 1.0}\n"
     ]
    },
    {
     "name": "stderr",
     "output_type": "stream",
     "text": [
      "/opt/conda/lib/python3.6/site-packages/sklearn/metrics/classification.py:1135: UndefinedMetricWarning: Precision and F-score are ill-defined and being set to 0.0 in labels with no predicted samples.\n",
      "  'precision', 'predicted', average, warn_for)\n",
      "/opt/conda/lib/python3.6/site-packages/sklearn/metrics/classification.py:1137: UndefinedMetricWarning: Recall and F-score are ill-defined and being set to 0.0 in labels with no true samples.\n",
      "  'recall', 'true', average, warn_for)\n"
     ]
    }
   ],
   "source": [
    "def main():\n",
    "    X_train, X_test, y_train, y_test = train_test_split(X,y,test_size=0.2, random_state=42)\n",
    "    model = build_model()\n",
    "    model.fit(X_train, y_train)\n",
    "    y_pred = model.predict(X_test)\n",
    "    \n",
    "    display_results(model, y_test, y_pred)\n",
    "\n",
    "main()"
   ]
  },
  {
   "cell_type": "markdown",
   "metadata": {},
   "source": [
    "### 9. Export your model as a pickle file"
   ]
  },
  {
   "cell_type": "code",
   "execution_count": 27,
   "metadata": {},
   "outputs": [],
   "source": [
    "model = build_model()\n",
    "file = 'disaster_response.pkl'\n",
    "pickle.dump(model, open(file, 'wb'))\n"
   ]
  },
  {
   "cell_type": "markdown",
   "metadata": {},
   "source": [
    "### 10. Use this notebook to complete `train.py`\n",
    "Use the template file attached in the Resources folder to write a script that runs the steps above to create a database and export a model based on a new dataset specified by the user."
   ]
  },
  {
   "cell_type": "code",
   "execution_count": null,
   "metadata": {},
   "outputs": [],
   "source": []
  }
 ],
 "metadata": {
  "kernelspec": {
   "display_name": "Python 3",
   "language": "python",
   "name": "python3"
  },
  "language_info": {
   "codemirror_mode": {
    "name": "ipython",
    "version": 3
   },
   "file_extension": ".py",
   "mimetype": "text/x-python",
   "name": "python",
   "nbconvert_exporter": "python",
   "pygments_lexer": "ipython3",
   "version": "3.6.3"
  }
 },
 "nbformat": 4,
 "nbformat_minor": 2
}
